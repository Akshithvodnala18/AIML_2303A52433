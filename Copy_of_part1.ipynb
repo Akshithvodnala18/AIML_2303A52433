{
  "nbformat": 4,
  "nbformat_minor": 0,
  "metadata": {
    "colab": {
      "provenance": [],
      "authorship_tag": "ABX9TyNzeA8T3BRgOjCU1XSzSW4G",
      "include_colab_link": true
    },
    "kernelspec": {
      "name": "python3",
      "display_name": "Python 3"
    },
    "language_info": {
      "name": "python"
    }
  },
  "cells": [
    {
      "cell_type": "markdown",
      "metadata": {
        "id": "view-in-github",
        "colab_type": "text"
      },
      "source": [
        "<a href=\"https://colab.research.google.com/github/Akshithvodnala18/AIML_2303A52433/blob/main/Copy_of_part1.ipynb\" target=\"_parent\"><img src=\"https://colab.research.google.com/assets/colab-badge.svg\" alt=\"Open In Colab\"/></a>"
      ]
    },
    {
      "cell_type": "code",
      "source": [
        "import numpy as np\n",
        "lst1=[1,2,3]\n",
        "array1 = np.array(lst1)\n",
        "array1\n",
        "type(lst1)\n",
        "type(array1)\n",
        "\n",
        "# Define array2 before using it\n",
        "list2=[3,2,1]\n",
        "array2=np.array(list2)\n",
        "array2\n",
        "\n",
        "print(\"array2 multiplied by array1: \",array1*array2)\n",
        "print(\"array2 divided by array1: \",array2/array1)\n",
        "print(\"array2 raised to the power of array1: \",array2**array1)\n",
        "# sine function\n",
        "print(\"Sine: \",np.sin(array1))\n",
        "# logarithm\n",
        "print(\"Natural log: \",np.log(array1))\n",
        "print(\"Base-10 log: \",np.log10(array1))\n",
        "print(\"Base-2 log: \",np.log2(array1))\n",
        "# Exponential\n",
        "print(\"Exponential: \",np.exp(array1))\n",
        "\n",
        "print(\"Adding two numpy arrays {array1} and {array2} together:\", array1+array2)\n",
        "print(f\"Adding two numpy arrays {array1} and {array2} together: {array1+array2}\")"
      ],
      "metadata": {
        "colab": {
          "base_uri": "https://localhost:8080/"
        },
        "id": "kVKiA5ROmaU9",
        "outputId": "39ff8c6c-3c57-411c-d54b-c3f54e8f1105"
      },
      "execution_count": null,
      "outputs": [
        {
          "output_type": "stream",
          "name": "stdout",
          "text": [
            "array2 multiplied by array1:  [3 4 3]\n",
            "array2 divided by array1:  [3.         1.         0.33333333]\n",
            "array2 raised to the power of array1:  [3 4 1]\n",
            "Sine:  [0.84147098 0.90929743 0.14112001]\n",
            "Natural log:  [0.         0.69314718 1.09861229]\n",
            "Base-10 log:  [0.         0.30103    0.47712125]\n",
            "Base-2 log:  [0.        1.        1.5849625]\n",
            "Exponential:  [ 2.71828183  7.3890561  20.08553692]\n",
            "Adding two numpy arrays {array1} and {array2} together: [4 4 4]\n",
            "Adding two numpy arrays [1 2 3] and [3 2 1] together: [4 4 4]\n"
          ]
        }
      ]
    }
  ]
}